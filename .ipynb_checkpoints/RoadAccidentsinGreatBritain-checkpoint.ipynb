{
 "cells": [
  {
   "cell_type": "markdown",
   "metadata": {
    "slideshow": {
     "slide_type": "slide"
    }
   },
   "source": [
    "## Introduction\n",
    "\n",
    "The initial goal of the study was to find the variables that would most accurately predict the accident/casualty severity.\n",
    "\n",
    "I started out with over 50 variables combined from the three datasets.  Some of them were useless information for what I wanted to do.  Some variables gave information on the district authority and the highway authority.  I had to remove other variables because they gave the same information but in different formats.  Other variables were deleted because there was no information on what the categories meant (example the levels of Pedestrian_Crossing_Physical were Zebra, Pelican, Puffin, Toucan, ...). It is important to note that a casualty is reported as a person who is hurt, not just killed.  The levels of casualty are slight, serious, and fatal.  Fatal is defined as a person who dies within 30 days of the accidents. There were about 40 variables left after removing the variables that couldn't be used in the analysis.  \n",
    "\n",
    "Next I combined the three datasets and found that the variables in the accidents dataset were condensed into one observation per crash regardless of the number of vehicles and casualties.  When I combined them by the accident index it repeated many of the observations.  This lead to pseudo replications.  A simple example to illustrate is if there was an accident on icy roads, low light, while it was snowing, on a road with a speed limit of 55 miles an hour, but there were 20 vehicles involved and 40 casualties, there would be over 50 observations after combining the three datasets with those same conditions. \n",
    "\n",
    "After realizing that I would overestimate some conditions I decided to split the analysis into two parts. The first part of the analysis I used the accidents dataset to predict the conditions that were the best at predicting the outcome of a crash.  The second part of the the analysis I used the casualties and vehicles datasets to find who would be injured in a crash."
   ]
  },
  {
   "cell_type": "markdown",
   "metadata": {
    "slideshow": {
     "slide_type": "slide"
    }
   },
   "source": [
    "#### Read in datasets and create dataframes for x and y variables"
   ]
  },
  {
   "cell_type": "code",
   "execution_count": 2,
   "metadata": {
    "collapsed": false,
    "slideshow": {
     "slide_type": "subslide"
    }
   },
   "outputs": [],
   "source": [
    "import pandas as pd\n",
    "import numpy as np\n",
    "import time\n",
    "accidents = pd.read_csv('accidents.csv')\n",
    "casveh = pd.read_csv('casualtiesVehicles.csv')\n",
    "yacc = accidents.Accident_Severity\n",
    "xacc = accidents.drop(['\\xef\\xbb\\xbfAccident_Index', 'Accident_Severity'], axis = 1)\n",
    "ycv = casveh.Casualty_Severity\n",
    "xcv = casveh.drop(['\\xef\\xbb\\xbfAccident_Index', 'Casualty_Severity'], axis = 1)"
   ]
  },
  {
   "cell_type": "markdown",
   "metadata": {
    "collapsed": true,
    "slideshow": {
     "slide_type": "slide"
    }
   },
   "source": [
    "#### Find optimal number of variables for each dataset using k best feature selection"
   ]
  },
  {
   "cell_type": "code",
   "execution_count": 37,
   "metadata": {
    "collapsed": true,
    "slideshow": {
     "slide_type": "subslide"
    }
   },
   "outputs": [],
   "source": [
    "from sklearn.feature_selection import SelectKBest\n",
    "from sklearn.feature_selection import chi2\n",
    "from sklearn.cross_validation import KFold\n",
    "kfa = KFold(len(yacc), n_folds = 10, random_state = 338)\n",
    "kfcv = KFold(len(ycv), n_folds = 10, random_state = 22)\n",
    "from sklearn.cross_validation import cross_val_score\n",
    "from sklearn.naive_bayes import MultinomialNB\n",
    "mnb = MultinomialNB()\n",
    "import matplotlib.pyplot as plt\n",
    "%matplotlib inline\n",
    "x = range(1, 16)\n",
    "accScores = []\n",
    "for i in x:\n",
    "    x_best = SelectKBest(chi2, k = i).fit_transform(xacc, yacc)\n",
    "    scoresacc = cross_val_score(mnb, x_best, yacc, cv = kfa, scoring = 'accuracy').mean()\n",
    "    accScores.append(scoresacc)"
   ]
  },
  {
   "cell_type": "code",
   "execution_count": 39,
   "metadata": {
    "collapsed": false,
    "slideshow": {
     "slide_type": "subslide"
    }
   },
   "outputs": [
    {
     "data": {
      "text/plain": [
       "<matplotlib.text.Text at 0x10c662510>"
      ]
     },
     "execution_count": 39,
     "metadata": {},
     "output_type": "execute_result"
    },
    {
     "data": {
      "image/png": "[encoded data removed]",
      "text/plain": [
       "<matplotlib.figure.Figure at 0x116a2e450>"
      ]
     },
     "metadata": {},
     "output_type": "display_data"
    }
   ],
   "source": [
    "plt.plot(x, accScores, color = 'orange', linewidth = 2)\n",
    "plt.xlabel('Number of Features')\n",
    "plt.ylabel('Accuracy')"
   ]
  },
  {
   "cell_type": "markdown",
   "metadata": {},
   "source": [
    "It is hard to tell from this graph but the maximum value occurs at k = 10.  Later I will create a new x matrix with the 10 best variables."
   ]
  },
  {
   "cell_type": "code",
   "execution_count": 12,
   "metadata": {
    "collapsed": false,
    "slideshow": {
     "slide_type": "subslide"
    }
   },
   "outputs": [],
   "source": [
    "x2 = range(1, 28)\n",
    "cvScores = []\n",
    "for i in x2:\n",
    "    x_best = SelectKBest(chi2, k = i).fit_transform(xcv, ycv)\n",
    "    scorescv = cross_val_score(mnb, x_best, ycv, cv = kfcv, scoring = 'accuracy').mean()\n",
    "    cvScores.append(scorescv)"
   ]
  },
  {
   "cell_type": "code",
   "execution_count": 41,
   "metadata": {
    "collapsed": false,
    "slideshow": {
     "slide_type": "subslide"
    }
   },
   "outputs": [
    {
     "data": {
      "text/plain": [
       "<matplotlib.text.Text at 0x109b6cb10>"
      ]
     },
     "execution_count": 41,
     "metadata": {},
     "output_type": "execute_result"
    },
    {
     "data": {
      "image/png": "[encoded data removed]",
      "text/plain": [
       "<matplotlib.figure.Figure at 0x107c28ed0>"
      ]
     },
     "metadata": {},
     "output_type": "display_data"
    }
   ],
   "source": [
    "plt.plot(x2, cvScores, color = 'orange', linewidth = 2)\n",
    "plt.xlabel('Number of Features')\n",
    "plt.ylabel('Accuracy')"
   ]
  },
  {
   "cell_type": "markdown",
   "metadata": {},
   "source": [
    "I didn't want to use just one variable so I chose to pick the top two variables when I create the new x matrix for this dataset."
   ]
  },
  {
   "cell_type": "markdown",
   "metadata": {
    "slideshow": {
     "slide_type": "slide"
    }
   },
   "source": [
    "#### Create new dataframes with variables selected by k best feature selection"
   ]
  },
  {
   "cell_type": "code",
   "execution_count": 16,
   "metadata": {
    "collapsed": false,
    "slideshow": {
     "slide_type": "subslide"
    }
   },
   "outputs": [
    {
     "data": {
      "text/plain": [
       "array(['Number_of_Vehicles', 'Number_of_Casualties', '1st_Road_Class',\n",
       "       'Road_Type', 'Speed_limit', 'Junction_Detail', '2nd_Road_Class',\n",
       "       'Light_Conditions', 'Weather_Conditions', 'Urban_or_Rural_Area'], \n",
       "      dtype='|S26')"
      ]
     },
     "execution_count": 16,
     "metadata": {},
     "output_type": "execute_result"
    }
   ],
   "source": [
    "selectacc = SelectKBest(chi2, k = 10)\n",
    "x_best_acc = selectacc.fit_transform(xacc, yacc)\n",
    "np.asanyarray(list(xacc))[selectacc.get_support()]"
   ]
  },
  {
   "cell_type": "code",
   "execution_count": 17,
   "metadata": {
    "collapsed": false,
    "slideshow": {
     "slide_type": "subslide"
    }
   },
   "outputs": [
    {
     "data": {
      "text/plain": [
       "array(['Pedestrian_Location', 'Pedestrian_Movement'], \n",
       "      dtype='|S32')"
      ]
     },
     "execution_count": 17,
     "metadata": {},
     "output_type": "execute_result"
    }
   ],
   "source": [
    "selectcv = SelectKBest(chi2, k = 2)\n",
    "x_best_cv = selectcv.fit_transform(xcv, ycv)\n",
    "np.asarray(list(xcv))[selectcv.get_support()]"
   ]
  },
  {
   "cell_type": "markdown",
   "metadata": {
    "slideshow": {
     "slide_type": "subslide"
    }
   },
   "source": [
    "Note: 'Pedestrian_Location' and 'Pedestrian_Movement' don't just include pedestrians.  It also has a category for people that were not pedestrians."
   ]
  },
  {
   "cell_type": "markdown",
   "metadata": {},
   "source": [
    "I wanted to compare Python's built in k best function to something else.  I decided to use PCA for variable selection."
   ]
  },
  {
   "cell_type": "markdown",
   "metadata": {
    "slideshow": {
     "slide_type": "slide"
    }
   },
   "source": [
    "#### Try PCA for dimension reduction"
   ]
  },
  {
   "cell_type": "code",
   "execution_count": 22,
   "metadata": {
    "collapsed": false,
    "slideshow": {
     "slide_type": "subslide"
    }
   },
   "outputs": [
    {
     "name": "stdout",
     "output_type": "stream",
     "text": [
      "Explained variance of first 3 components:\n",
      "[ 0.85946799  0.03655457  0.02297084]\n",
      "Loadings from first 3 components:\n",
      "[[  5.36945254e-03   7.46250024e-03  -1.37376766e-03  -3.47094978e-02\n",
      "   -2.73716135e-02   9.98338241e-01  -9.07600167e-03   6.61597538e-03\n",
      "   -2.40288049e-02   2.49621002e-03   2.03516800e-03   2.60406552e-03\n",
      "    1.92724679e-03   5.44553822e-04   2.35733172e-02]\n",
      " [ -5.65744906e-03  -1.77707471e-02  -2.20982182e-02  -9.25849162e-02\n",
      "   -4.89808940e-01  -2.79598032e-02  -8.52524915e-01   3.06474335e-02\n",
      "   -1.48601752e-01  -2.53891883e-03  -6.69326341e-03  -3.45345478e-03\n",
      "   -1.03315792e-03  -2.75158049e-03  -2.24927969e-03]\n",
      " [  5.09013861e-03   2.54298496e-05  -9.97905911e-01  -9.19851151e-03\n",
      "   -9.89577955e-03  -1.62363678e-03   3.38534259e-02  -5.50742284e-03\n",
      "   -5.91260821e-03  -3.10996326e-02  -4.13392026e-02  -9.16928718e-03\n",
      "   -3.77179358e-04   5.50554984e-04   8.51531130e-04]]\n"
     ]
    }
   ],
   "source": [
    "from sklearn.decomposition import PCA\n",
    "pca = PCA(n_components = 3)\n",
    "pca.fit(xacc)\n",
    "print 'Explained variance of first 3 components:'\n",
    "print pca.explained_variance_ratio_\n",
    "print 'Loadings from first 3 components:'\n",
    "print pca.components_\n",
    "6, 5, 7, 9, 3\n",
    "x_pca = pd.DataFrame(xacc[['Day_of_Week', 'Road_Type', 'Speed_limit', 'Junction_Detail', '2nd_Road_Class']])"
   ]
  },
  {
   "cell_type": "markdown",
   "metadata": {},
   "source": [
    "I chose to use the variables that had a loading of 0.10 and larger from the first three components. I used the first three components because after the third component the explained variance is much smaller per comonent."
   ]
  },
  {
   "cell_type": "code",
   "execution_count": 23,
   "metadata": {
    "collapsed": false,
    "slideshow": {
     "slide_type": "subslide"
    }
   },
   "outputs": [
    {
     "name": "stdout",
     "output_type": "stream",
     "text": [
      "Explained variance of first 3 components:\n",
      "[ 0.55822848  0.20764682  0.0581345 ]\n",
      "Loadings from first 3 components:\n",
      "[[  1.85450030e-02   4.65410477e-04  -1.97948568e-02   2.48606707e-04\n",
      "    3.96778470e-03  -3.17170652e-03  -2.99823377e-03  -4.28315679e-03\n",
      "   -7.02694908e-03   1.07981472e-04  -9.21632607e-07  -2.02022925e-03\n",
      "   -5.10187593e-04   6.05753765e-01   1.92509139e-03  -7.91126327e-03\n",
      "    1.70645870e-03  -2.00063049e-03  -2.63039818e-03   1.14700090e-03\n",
      "    7.94729125e-01  -1.85416430e-03  -6.10290161e-04  -4.13179618e-03\n",
      "    1.03988666e-03   2.27732671e-02   1.75089907e-03]\n",
      " [ -8.65162991e-03  -3.45986264e-04   1.66884600e-02  -3.46675145e-04\n",
      "    5.47173056e-04   4.12138823e-03   4.11149701e-03   5.89774650e-03\n",
      "    8.32897124e-03  -3.60773252e-03   1.94531072e-06  -1.32695374e-02\n",
      "    9.98951628e-05  -7.94616654e-01  -1.49779272e-03   8.79223312e-03\n",
      "   -1.32404567e-03  -5.88971979e-03  -7.21654317e-03   1.62584546e-04\n",
      "    6.05482171e-01  -8.35933824e-03  -4.46014403e-03  -7.28426760e-03\n",
      "    2.38877752e-04   3.13631495e-02   1.94636755e-04]\n",
      " [ -4.31129844e-01  -4.08213540e-03   2.74557838e-01  -1.83970997e-03\n",
      "    3.55838775e-02   2.99121343e-03   1.01264127e-02   9.60046779e-03\n",
      "    1.56144954e-02  -2.35254871e-03  -1.12095970e-05   7.53672674e-01\n",
      "    3.52321147e-03   4.85484826e-03  -2.42784514e-02   1.14610016e-01\n",
      "   -3.55935022e-04  -6.79704738e-03   7.01391952e-03   2.87762194e-04\n",
      "    2.77065280e-02   1.90586426e-02   1.19332730e-02   2.74375035e-03\n",
      "   -7.00756203e-03  -3.92166520e-01  -1.51574258e-03]]\n"
     ]
    }
   ],
   "source": [
    "pca.fit(xcv)\n",
    "print 'Explained variance of first 3 components:'\n",
    "print pca.explained_variance_ratio_\n",
    "print 'Loadings from first 3 components:'\n",
    "print pca.components_\n",
    "14, 22, 28, 1, 3, 12, 17, 27\n",
    "x_pca_cv = pd.DataFrame(xcv[['Vehicle_Type', 'Vehicle_Manoeuvre', 'Journey_Purpose_of_Driver', 'Age_of_Driver', 'Age_of_Vehicle', 'Age_of_Casualty', 'Casualty_Type', 'Casualty_Home_Area_Type']])"
   ]
  },
  {
   "cell_type": "markdown",
   "metadata": {},
   "source": [
    "I chose to follow the same guidelines that I used above to select the variables for the casualties and vehicles dataset."
   ]
  },
  {
   "cell_type": "markdown",
   "metadata": {
    "slideshow": {
     "slide_type": "slide"
    }
   },
   "source": [
    "#### Find optimal k for k nearest neighbors"
   ]
  },
  {
   "cell_type": "markdown",
   "metadata": {},
   "source": [
    "Because of computing time I used one train test split for finding the optimal k in knn.  I also did not optimize k for the variables picked with pca.  I decided to use the same k for both k best and pca in the following models."
   ]
  },
  {
   "cell_type": "code",
   "execution_count": 42,
   "metadata": {
    "collapsed": true,
    "slideshow": {
     "slide_type": "subslide"
    }
   },
   "outputs": [],
   "source": [
    "from sklearn.neighbors import KNeighborsClassifier\n",
    "from sklearn.cross_validation import train_test_split\n",
    "from sklearn import metrics\n",
    "xTrain, xTest, yTrain, yTest = train_test_split(x_best_acc, yacc, random_state = 5)\n",
    "x = range(1, 21)\n",
    "knnacc = []\n",
    "for k in x:\n",
    "    knn = KNeighborsClassifier(n_neighbors = k)\n",
    "    knn.fit(xTrain, yTrain)\n",
    "    yPred = knn.predict(xTest)\n",
    "    kscoresacc = metrics.accuracy_score(yTest, yPred)\n",
    "    knnacc.append(kscoresacc)"
   ]
  },
  {
   "cell_type": "code",
   "execution_count": 44,
   "metadata": {
    "collapsed": false,
    "slideshow": {
     "slide_type": "subslide"
    }
   },
   "outputs": [
    {
     "data": {
      "text/plain": [
       "<matplotlib.text.Text at 0x116bbea50>"
      ]
     },
     "execution_count": 44,
     "metadata": {},
     "output_type": "execute_result"
    },
    {
     "data": {
      "image/png": "[encoded data removed]",
      "text/plain": [
       "<matplotlib.figure.Figure at 0x107408490>"
      ]
     },
     "metadata": {},
     "output_type": "display_data"
    }
   ],
   "source": [
    "plt.plot(x, knnacc, color = 'seagreen', linewidth = 2)\n",
    "plt.xlabel('Value of k')\n",
    "plt.ylabel('Accuracy')"
   ]
  },
  {
   "cell_type": "markdown",
   "metadata": {
    "slideshow": {
     "slide_type": "fragment"
    }
   },
   "source": [
    "It is hard to see from this graph but the optimal k occurs at k = 17."
   ]
  },
  {
   "cell_type": "markdown",
   "metadata": {
    "slideshow": {
     "slide_type": "subslide"
    }
   },
   "source": [
    "Casualties and vehicles datasets"
   ]
  },
  {
   "cell_type": "code",
   "execution_count": 48,
   "metadata": {
    "collapsed": true,
    "slideshow": {
     "slide_type": "subslide"
    }
   },
   "outputs": [],
   "source": [
    "xtrain, xtest, ytrain, ytest = train_test_split(x_best_cv, ycv, random_state = 3)\n",
    "knnCv = []\n",
    "for k in x:\n",
    "    knn = KNeighborsClassifier(n_neighbors = k)\n",
    "    knn.fit(xtrain, ytrain)\n",
    "    yPredcv = knn.predict(xtest)\n",
    "    kscorescv = metrics.accuracy_score(ytest, yPredcv)\n",
    "    knnCv.append(kscorescv)"
   ]
  },
  {
   "cell_type": "code",
   "execution_count": 49,
   "metadata": {
    "collapsed": false,
    "slideshow": {
     "slide_type": "subslide"
    }
   },
   "outputs": [
    {
     "data": {
      "text/plain": [
       "<matplotlib.text.Text at 0x114152d90>"
      ]
     },
     "execution_count": 49,
     "metadata": {},
     "output_type": "execute_result"
    },
    {
     "data": {
      "image/png": "[encoded data removed]",
      "text/plain": [
       "<matplotlib.figure.Figure at 0x10c020d50>"
      ]
     },
     "metadata": {},
     "output_type": "display_data"
    }
   ],
   "source": [
    "plt.plot(x, knnCv, color = 'seagreen', linewidth = 2)\n",
    "plt.xlabel('Value of k')\n",
    "plt.ylabel('Accuracy')"
   ]
  },
  {
   "cell_type": "markdown",
   "metadata": {
    "slideshow": {
     "slide_type": "fragment"
    }
   },
   "source": [
    "The optimal k occurs at k = 11."
   ]
  },
  {
   "cell_type": "markdown",
   "metadata": {
    "slideshow": {
     "slide_type": "slide"
    }
   },
   "source": [
    "#### Find max depth for classification tree"
   ]
  },
  {
   "cell_type": "code",
   "execution_count": 28,
   "metadata": {
    "collapsed": true,
    "slideshow": {
     "slide_type": "subslide"
    }
   },
   "outputs": [],
   "source": [
    "from sklearn.tree import DecisionTreeClassifier\n",
    "deep = range(1, 11)\n",
    "treeacc = []\n",
    "for i in deep:\n",
    "    tre = DecisionTreeClassifier(random_state = 22, max_depth = i)\n",
    "    treescoreacc = cross_val_score(tre, x_best_acc, yacc, cv = kfa, scoring = 'accuracy').mean()\n",
    "    treeacc.append(treescoreacc)"
   ]
  },
  {
   "cell_type": "code",
   "execution_count": 52,
   "metadata": {
    "collapsed": false,
    "slideshow": {
     "slide_type": "subslide"
    }
   },
   "outputs": [
    {
     "data": {
      "text/plain": [
       "<matplotlib.text.Text at 0x10b287550>"
      ]
     },
     "execution_count": 52,
     "metadata": {},
     "output_type": "execute_result"
    },
    {
     "data": {
      "image/png": "[encoded data removed]",
      "text/plain": [
       "<matplotlib.figure.Figure at 0x1152f1910>"
      ]
     },
     "metadata": {},
     "output_type": "display_data"
    }
   ],
   "source": [
    "plt.plot(deep, treeacc, color = 'coral', linewidth = 2)\n",
    "plt.xlabel('Depth of tree')\n",
    "plt.ylabel('Accuracy')"
   ]
  },
  {
   "cell_type": "code",
   "execution_count": 30,
   "metadata": {
    "collapsed": true,
    "slideshow": {
     "slide_type": "subslide"
    }
   },
   "outputs": [],
   "source": [
    "treecv = []\n",
    "for i in deep:\n",
    "    tre = DecisionTreeClassifier(random_state = 22, max_depth = i)\n",
    "    treescorecv = cross_val_score(tre, x_best_cv, ycv, cv = kfcv, scoring = 'accuracy').mean()\n",
    "    treecv.append(treescorecv)"
   ]
  },
  {
   "cell_type": "code",
   "execution_count": 53,
   "metadata": {
    "collapsed": false,
    "slideshow": {
     "slide_type": "subslide"
    }
   },
   "outputs": [
    {
     "data": {
      "text/plain": [
       "<matplotlib.text.Text at 0x10908bc90>"
      ]
     },
     "execution_count": 53,
     "metadata": {},
     "output_type": "execute_result"
    },
    {
     "data": {
      "image/png": "[encoded data removed]",
      "text/plain": [
       "<matplotlib.figure.Figure at 0x109097810>"
      ]
     },
     "metadata": {},
     "output_type": "display_data"
    }
   ],
   "source": [
    "plt.plot(deep, treecv, color = 'coral', linewidth = 2)\n",
    "plt.xlabel('Depth of tree')\n",
    "plt.ylabel('Accuracy')"
   ]
  },
  {
   "cell_type": "markdown",
   "metadata": {},
   "source": [
    "I chose to use a depth of one for the classification tree, because the model doesn't gain any accuracy by using a depth greater than one."
   ]
  },
  {
   "cell_type": "markdown",
   "metadata": {
    "slideshow": {
     "slide_type": "slide"
    }
   },
   "source": [
    "#### Run models with maximized parameters"
   ]
  },
  {
   "cell_type": "markdown",
   "metadata": {
    "slideshow": {
     "slide_type": "slide"
    }
   },
   "source": [
    "#### Naive Bayes"
   ]
  },
  {
   "cell_type": "code",
   "execution_count": 32,
   "metadata": {
    "collapsed": false,
    "slideshow": {
     "slide_type": "subslide"
    }
   },
   "outputs": [
    {
     "name": "stdout",
     "output_type": "stream",
     "text": [
      "Accident dataset\n",
      "0.884238574812\n",
      "0.884238574812\n",
      "Casualty and Vehicle datasets\n",
      "0.897978851348\n",
      "0.888202704998\n"
     ]
    }
   ],
   "source": [
    "print 'Accident dataset'\n",
    "print cross_val_score(mnb, x_best_acc, yacc, cv = kfa, scoring = 'accuracy').mean()\n",
    "print cross_val_score(mnb, x_pca, yacc, cv = kfa, scoring = 'accuracy').mean()\n",
    "\n",
    "print 'Casualty and Vehicle datasets'\n",
    "print cross_val_score(mnb, x_best_cv, ycv, cv = kfcv, scoring = 'accuracy').mean()\n",
    "print cross_val_score(mnb, x_pca_cv, ycv, cv = kfcv, scoring = 'accuracy').mean()"
   ]
  },
  {
   "cell_type": "markdown",
   "metadata": {
    "slideshow": {
     "slide_type": "slide"
    }
   },
   "source": [
    "#### Classification Tree"
   ]
  },
  {
   "cell_type": "code",
   "execution_count": 33,
   "metadata": {
    "collapsed": false,
    "slideshow": {
     "slide_type": "subslide"
    }
   },
   "outputs": [
    {
     "name": "stdout",
     "output_type": "stream",
     "text": [
      "Accident dataset\n",
      "0.884238574812\n",
      "0.884238574812\n",
      "Casualty and Vehicle datasets\n",
      "0.897978851348\n",
      "0.897978851348\n"
     ]
    }
   ],
   "source": [
    "tre = DecisionTreeClassifier(random_state = 22, max_depth = 1)\n",
    "print 'Accident dataset'\n",
    "print cross_val_score(tre, x_best_acc, yacc, cv = kfa, scoring = 'accuracy').mean()\n",
    "print cross_val_score(tre, x_pca, yacc, cv = kfa, scoring = 'accuracy').mean()\n",
    "\n",
    "print 'Casualty and Vehicle datasets'\n",
    "print cross_val_score(tre, x_best_cv, ycv, cv = kfcv, scoring = 'accuracy').mean()\n",
    "print cross_val_score(tre, x_pca_cv, ycv, cv = kfcv, scoring = 'accuracy').mean()"
   ]
  },
  {
   "cell_type": "markdown",
   "metadata": {
    "slideshow": {
     "slide_type": "slide"
    }
   },
   "source": [
    "#### Logistic Regression"
   ]
  },
  {
   "cell_type": "code",
   "execution_count": 34,
   "metadata": {
    "collapsed": false,
    "slideshow": {
     "slide_type": "subslide"
    }
   },
   "outputs": [
    {
     "name": "stdout",
     "output_type": "stream",
     "text": [
      "Accident dataset\n",
      "0.884201560052\n",
      "0.884238574812\n",
      "Casualty and Vehicle datasets\n",
      "0.897978851348\n",
      "0.897968981385\n"
     ]
    }
   ],
   "source": [
    "from sklearn.linear_model import LogisticRegression\n",
    "lreg = LogisticRegression(random_state = 22, C=1e9)\n",
    "print 'Accident dataset'\n",
    "print cross_val_score(lreg, x_best_acc, yacc, cv = kfa, scoring = 'accuracy').mean()\n",
    "print cross_val_score(lreg, x_pca, yacc, cv = kfa, scoring = 'accuracy').mean()\n",
    "\n",
    "print 'Casualty and Vehicle datasets'\n",
    "print cross_val_score(lreg, x_best_cv, ycv, cv = kfcv, scoring = 'accuracy').mean()\n",
    "print cross_val_score(lreg, x_pca_cv, ycv, cv = kfcv, scoring = 'accuracy').mean()"
   ]
  },
  {
   "cell_type": "markdown",
   "metadata": {
    "slideshow": {
     "slide_type": "slide"
    }
   },
   "source": [
    "#### KNN"
   ]
  },
  {
   "cell_type": "code",
   "execution_count": 35,
   "metadata": {
    "collapsed": false,
    "slideshow": {
     "slide_type": "subslide"
    }
   },
   "outputs": [
    {
     "name": "stdout",
     "output_type": "stream",
     "text": [
      "Accident dataset\n",
      "0.883128170554\n",
      "0.884090524336\n",
      "Casualty and Vehicle datasets\n",
      "0.897273149098\n",
      "0.894613227979\n"
     ]
    }
   ],
   "source": [
    "knna = KNeighborsClassifier(n_neighbors = 17)\n",
    "print 'Accident dataset'\n",
    "print cross_val_score(knna, x_best_acc, yacc, cv = kfa, scoring = 'accuracy').mean()\n",
    "print cross_val_score(knna, x_pca, yacc, cv = kfa, scoring = 'accuracy').mean()\n",
    "\n",
    "knncv = KNeighborsClassifier(n_neighbors = 11)\n",
    "print 'Casualty and Vehicle datasets'\n",
    "print cross_val_score(knncv, x_best_cv, ycv, cv = kfcv, scoring = 'accuracy').mean()\n",
    "print cross_val_score(knncv, x_pca_cv, ycv, cv = kfcv, scoring = 'accuracy').mean()"
   ]
  },
  {
   "cell_type": "markdown",
   "metadata": {
    "slideshow": {
     "slide_type": "slide"
    }
   },
   "source": [
    "#### SVM Gaussian"
   ]
  },
  {
   "cell_type": "code",
   "execution_count": 74,
   "metadata": {
    "collapsed": false,
    "slideshow": {
     "slide_type": "subslide"
    }
   },
   "outputs": [
    {
     "name": "stdout",
     "output_type": "stream",
     "text": [
      "Accident dataset\n",
      "0.884220067432\n",
      "0.884238574812\n"
     ]
    }
   ],
   "source": [
    "from sklearn.svm import SVC\n",
    "gau = SVC(random_state = 22, kernel = 'rbf')\n",
    "print 'Accident dataset'\n",
    "print cross_val_score(gau, x_best_acc, yacc, cv = kfa, scoring = 'accuracy').mean()\n",
    "print cross_val_score(gau, x_pca, yacc, cv = kfa, scoring = 'accuracy').mean()"
   ]
  },
  {
   "cell_type": "code",
   "execution_count": 78,
   "metadata": {
    "collapsed": false,
    "slideshow": {
     "slide_type": "subslide"
    }
   },
   "outputs": [
    {
     "name": "stdout",
     "output_type": "stream",
     "text": [
      "Casualty and Vehicle datasets\n",
      "0.897978851348\n",
      "0.896917843573\n"
     ]
    }
   ],
   "source": [
    "print 'Casualty and Vehicle datasets'\n",
    "print cross_val_score(gau, x_best_cv, ycv, cv = kfcv, scoring = 'accuracy').mean()\n",
    "print cross_val_score(gau, x_pca_cv, ycv, cv = kfcv, scoring = 'accuracy').mean()"
   ]
  },
  {
   "cell_type": "markdown",
   "metadata": {
    "slideshow": {
     "slide_type": "slide"
    }
   },
   "source": [
    "#### Random Forest"
   ]
  },
  {
   "cell_type": "code",
   "execution_count": 77,
   "metadata": {
    "collapsed": false,
    "slideshow": {
     "slide_type": "subslide"
    }
   },
   "outputs": [
    {
     "name": "stdout",
     "output_type": "stream",
     "text": [
      "Accident dataset\n",
      "0.872690133336\n",
      "0.882147274284\n",
      "Casualty and Vehicle datasets\n",
      "0.897934436635\n",
      "0.87301776156\n"
     ]
    }
   ],
   "source": [
    "from sklearn.ensemble import RandomForestClassifier\n",
    "rfor = RandomForestClassifier(random_state = 22)\n",
    "print 'Accident dataset'\n",
    "print cross_val_score(rfor, x_best_acc, yacc, cv = kfa, scoring = 'accuracy').mean()\n",
    "print cross_val_score(rfor, x_pca, yacc, cv = kfa, scoring = 'accuracy').mean()\n",
    "\n",
    "print 'Casualty and Vehicle datasets'\n",
    "print cross_val_score(rfor, x_best_cv, ycv, cv = kfcv, scoring = 'accuracy').mean()\n",
    "print cross_val_score(rfor, x_pca_cv, ycv, cv = kfcv, scoring = 'accuracy').mean()"
   ]
  },
  {
   "cell_type": "markdown",
   "metadata": {},
   "source": [
    "It was really interesting to see that the results were so close for all of the models and for both methods of selecting the best variables.  I was also suprised to see that logistic regression or svm weren't quite a bit better than the other models."
   ]
  },
  {
   "cell_type": "markdown",
   "metadata": {
    "slideshow": {
     "slide_type": "slide"
    }
   },
   "source": [
    "#### Test which feature selection method for classification trees is more accurate"
   ]
  },
  {
   "cell_type": "markdown",
   "metadata": {},
   "source": [
    "In all of the models above I used the variables picked with k best and pca with 10 fold cross validation to find the accuracy.  I was curious to know if the method I used above was better than tuning depth and max features for classification tree with all of the features.  \n",
    "\n",
    "To test this I created a double for loop to cover a range of depths and max number of features to see if I could find a combination that outperformed either k best or pca. I did this for both the accidents dataset and the casualties and vehicles dataset."
   ]
  },
  {
   "cell_type": "code",
   "execution_count": 54,
   "metadata": {
    "collapsed": true,
    "slideshow": {
     "slide_type": "subslide"
    }
   },
   "outputs": [],
   "source": [
    "depth = range(1, 6)\n",
    "feat = range(1, 16)\n",
    "depthfeatacc = []\n",
    "for e in depth:\n",
    "    for v in feat:\n",
    "        treee = DecisionTreeClassifier(random_state = 40, max_depth = e, max_features = v)\n",
    "        depthfeataccscore = cross_val_score(treee, xacc, yacc, cv = kfa, scoring = 'accuracy').mean()\n",
    "        depthfeatacc.append(depthfeataccscore)"
   ]
  },
  {
   "cell_type": "code",
   "execution_count": 57,
   "metadata": {
    "collapsed": false,
    "slideshow": {
     "slide_type": "subslide"
    }
   },
   "outputs": [
    {
     "data": {
      "text/plain": [
       "<matplotlib.text.Text at 0x114144a90>"
      ]
     },
     "execution_count": 57,
     "metadata": {},
     "output_type": "execute_result"
    },
    {
     "data": {
      "image/png": "[encoded data removed]",
      "text/plain": [
       "<matplotlib.figure.Figure at 0x10bf82cd0>"
      ]
     },
     "metadata": {},
     "output_type": "display_data"
    }
   ],
   "source": [
    "xtreeacc = range(1, 5 * 15 + 1)\n",
    "plt.plot(xtreeacc, depthfeatacc, color = 'cyan', linewidth = 2)\n",
    "plt.xlabel('Iteration')\n",
    "plt.ylabel('Accuracy')"
   ]
  },
  {
   "cell_type": "code",
   "execution_count": 71,
   "metadata": {
    "collapsed": false,
    "slideshow": {
     "slide_type": "subslide"
    }
   },
   "outputs": [
    {
     "data": {
      "text/plain": [
       "0.88421081331409934"
      ]
     },
     "execution_count": 71,
     "metadata": {},
     "output_type": "execute_result"
    }
   ],
   "source": [
    "tree511 = DecisionTreeClassifier(random_state = 40, max_depth = 5, max_features = 11)\n",
    "cross_val_score(tree511, xacc, yacc, cv = kfa, scoring = 'accuracy').mean()"
   ]
  },
  {
   "cell_type": "code",
   "execution_count": 65,
   "metadata": {
    "collapsed": false,
    "slideshow": {
     "slide_type": "subslide"
    }
   },
   "outputs": [],
   "source": [
    "featcv = range(1, 28)\n",
    "depthfeatcv = []\n",
    "for e in depth:\n",
    "    for v in featcv:\n",
    "        tre = DecisionTreeClassifier(random_state = 22, max_depth = e, max_features = v)\n",
    "        depthfeatcvscore = cross_val_score(tre, xcv, ycv, cv = kfcv, scoring = 'accuracy').mean()\n",
    "        depthfeatcv.append(depthfeatcvscore)"
   ]
  },
  {
   "cell_type": "code",
   "execution_count": 67,
   "metadata": {
    "collapsed": false,
    "slideshow": {
     "slide_type": "subslide"
    }
   },
   "outputs": [
    {
     "data": {
      "text/plain": [
       "<matplotlib.text.Text at 0x109796690>"
      ]
     },
     "execution_count": 67,
     "metadata": {},
     "output_type": "execute_result"
    },
    {
     "data": {
      "image/png": "[encoded data removed]",
      "text/plain": [
       "<matplotlib.figure.Figure at 0x10be85950>"
      ]
     },
     "metadata": {},
     "output_type": "display_data"
    }
   ],
   "source": [
    "xtreecv = range(1, (5 * 27 + 1))\n",
    "plt.plot(xtreecv, depthfeatcv, color = 'cyan', linewidth = 2)\n",
    "plt.xlabel('Iteration')\n",
    "plt.ylabel('Accuracy')"
   ]
  },
  {
   "cell_type": "code",
   "execution_count": 69,
   "metadata": {
    "collapsed": false,
    "slideshow": {
     "slide_type": "subslide"
    }
   },
   "outputs": [
    {
     "data": {
      "text/plain": [
       "0.89804300355185218"
      ]
     },
     "execution_count": 69,
     "metadata": {},
     "output_type": "execute_result"
    }
   ],
   "source": [
    "tree522 = DecisionTreeClassifier(random_state = 22, max_depth = 5, max_features = 22)\n",
    "cross_val_score(tree522, xcv, ycv, cv = kfcv, scoring = 'accuracy').mean()"
   ]
  },
  {
   "cell_type": "markdown",
   "metadata": {
    "slideshow": {
     "slide_type": "slide"
    }
   },
   "source": [
    "#### Accident dataset\n",
    "k best/pca: 0.884238574812     \n",
    "depth/feature: 0.88421081331409934\n",
    "\n",
    "#### Casualty and Vehicle dataset\n",
    "k best/pca: 0.897978851348      \n",
    "depth/feature: 0.89804300355185218"
   ]
  },
  {
   "cell_type": "markdown",
   "metadata": {
    "collapsed": true
   },
   "source": [
    "You can see from the results above that using the variables from k best and pca in the accidents dataset were better than searching for the best depth and max features using all of the variables.  However using all of the variables and finding the best depth for the casualty and vehicle dataset gave better results than either k best or pca.  It is also interesting to note that tuning depth and max features for the classification tree with all of the variables outperformed every single model for the causalties and vehicles dataset."
   ]
  }
 ],
 "metadata": {
  "kernelspec": {
   "display_name": "Python 2",
   "language": "python",
   "name": "python2"
  },
  "language_info": {
   "codemirror_mode": {
    "name": "ipython",
    "version": 2
   },
   "file_extension": ".py",
   "mimetype": "text/x-python",
   "name": "python",
   "nbconvert_exporter": "python",
   "pygments_lexer": "ipython2",
   "version": "2.7.10"
  }
 },
 "nbformat": 4,
 "nbformat_minor": 0
}
